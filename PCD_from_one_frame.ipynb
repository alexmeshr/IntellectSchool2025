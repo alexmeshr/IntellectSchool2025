{
 "cells": [
  {
   "cell_type": "code",
   "execution_count": 3,
   "id": "cfa628b7-021d-498e-9af3-54841fb9afaa",
   "metadata": {},
   "outputs": [],
   "source": [
    "test_mp4, test_depth, test_intr = \"./raw_data/rgb_20250711_040525\", \"./raw_data/depth_20250711_040525\", \"./raw_data/intrinsics_20250711_040525\""
   ]
  },
  {
   "cell_type": "code",
   "execution_count": 6,
   "id": "440fc487-c92f-4c82-9984-2b2ce5e4b157",
   "metadata": {},
   "outputs": [
    {
     "name": "stdout",
     "output_type": "stream",
     "text": [
      "TOP DIMENSIONS:\n",
      "0: [     2.9191     0.92214     0.66489]\n",
      "1: [     2.7979     0.88151     0.70807]\n",
      "2: [     4.1678     0.94238     0.69636]\n",
      "3: [     4.2319      1.0125     0.69727]\n",
      "4: [     4.0001      1.0999     0.95944]\n",
      "5: [     4.2163      1.0316     0.87749]\n",
      "Object 0: габариты 2.919x0.922x0.665 м, объем 1.7897 м³, 27535 точек\n",
      "TOP DIMENSIONS:\n",
      "0: [    0.86726     0.53558     0.51799]\n",
      "1: [     1.1897     0.62926     0.38229]\n",
      "2: [     1.1129      0.5612     0.52835]\n",
      "3: [     1.2374     0.52676     0.50636]\n",
      "4: [     1.3394     0.59129     0.58519]\n",
      "5: [     1.2542     0.54741     0.50976]\n",
      "Object 1: габариты 0.867x0.536x0.518 м, объем 0.2406 м³, 24226 точек\n",
      "[FILTER] Area change too large: 0.64\n",
      "Обработано кадров: 71\n"
     ]
    }
   ],
   "source": [
    "import cv2\n",
    "from frame_processor import FrameProcessor\n",
    "from mock_camera import MockCamera\n",
    "\n",
    "from config import Config \n",
    "\n",
    "camera_intrinsics = Config.CAMERA_INTRINSICS\n",
    "#Config.CAMERA_INTRINSICS\n",
    "\n",
    "camera = MockCamera(rgb_folder=test_mp4, depth_folder=test_depth, intrinsics_folder=test_intr)\n",
    "processor = FrameProcessor(camera_intrinsics)\n",
    "processor.set_tracking_enabled(True)\n",
    "camera.start()\n",
    "\n",
    "# Обработка и отображение\n",
    "while True:\n",
    "   color, depth, depth_intrinsics= camera.get_frames()\n",
    "   if color is None or depth is None:\n",
    "       break\n",
    "   \n",
    "   # Обработка кадра\n",
    "   results = processor.process_frame(color, depth, depth_intrinsics)\n",
    "   \n",
    "   # Отображение результата (combined = RGB + Depth + Cleaned)\n",
    "   cv2.imshow('Processed Video', results['combined'])\n",
    "   \n",
    "   # Или только обработанный RGB с масками\n",
    "   # cv2.imshow('Processed Video', results['color_with_mask'])\n",
    "   \n",
    "   if cv2.waitKey(25) & 0xFF == ord('q'):\n",
    "       break\n",
    "\n",
    "camera.stop()\n",
    "cv2.destroyAllWindows()\n",
    "\n",
    "# Вывод статистики\n",
    "print(f\"Обработано кадров: {processor.frame_count}\")"
   ]
  },
  {
   "cell_type": "code",
   "execution_count": 7,
   "id": "03160748-e453-41f6-a58a-c5feaf3a4b66",
   "metadata": {},
   "outputs": [
    {
     "name": "stdout",
     "output_type": "stream",
     "text": [
      "\n",
      "Завершено объектов: 2\n",
      "\n",
      " Объект №: 0\n",
      "  Точек в облаке: 27535\n",
      "  Всего масок: 21\n",
      "  Габариты: 2.919x0.922x0.665 м, \n",
      "\n",
      " Объект №: 1\n",
      "  Точек в облаке: 24226\n",
      "  Всего масок: 35\n",
      "  Габариты: 0.867x0.536x0.518 м, \n"
     ]
    }
   ],
   "source": [
    "import numpy as np\n",
    "completed_objects = processor.get_completed_objects()\n",
    "print(f\"\\nЗавершено объектов: {len(completed_objects)}\")\n",
    "\n",
    "# Анализ результатов\n",
    "for idx, obj in enumerate(completed_objects):\n",
    "    print(f\"\\n Объект №: {idx}\")\n",
    "    print(f\"  Точек в облаке: {len(obj['point_cloud'])}\")\n",
    "    print(f\"  Всего масок: {len(obj['all_masks'])}\")\n",
    "    print(f\"  Габариты: {obj['dimensions'][0]:.3f}x{obj['dimensions'][1]:.3f}x{obj['dimensions'][2]:.3f} м, \")"
   ]
  },
  {
   "cell_type": "code",
   "execution_count": 8,
   "id": "2d652a0a-d545-4ae8-86e1-10649c268674",
   "metadata": {},
   "outputs": [],
   "source": [
    "import open3d as o3d\n",
    "import numpy as np\n",
    "\n",
    "def visualize_point_cloud_with_bbox(result):\n",
    "    \"\"\"Визуализация облака точек с ориентированным bounding box\"\"\"\n",
    "    # Создаем облако точек\n",
    "    pcd = o3d.geometry.PointCloud()\n",
    "    pcd.points = o3d.utility.Vector3dVector(result['point_cloud'])\n",
    "    pcd.paint_uniform_color([0.5, 0.5, 0.5])\n",
    "    \n",
    "    # Создаем линии для отображения bounding box\n",
    "    bbox_lines = create_bbox_lines(result['centroid'], result['dimensions'], result['rotation_matrix'])\n",
    "    \n",
    "    # Текст с размерами\n",
    "    print(f\"Габариты: {result['dimensions'][0]:.3f} x {result['dimensions'][1]:.3f} x {result['dimensions'][2]:.3f} м\")\n",
    "    print(f\"Объем: {result['volume']:.4f} м³\")\n",
    "    print(f\"Точек: {result['num_points']}\")\n",
    "    \n",
    "    # Визуализация\n",
    "    o3d.visualization.draw_geometries(\n",
    "        [pcd, bbox_lines],\n",
    "        window_name=\"Облако точек с габаритами\",\n",
    "        width=800, height=600\n",
    "    )\n",
    "\n",
    "def create_bbox_lines(center, extent, rotation):\n",
    "    \"\"\"Создание линий bounding box\"\"\"\n",
    "    # Вершины box в локальных координатах\n",
    "    corners = np.array([\n",
    "        [-extent[0]/2, -extent[1]/2, -extent[2]/2],\n",
    "        [extent[0]/2, -extent[1]/2, -extent[2]/2],\n",
    "        [extent[0]/2, extent[1]/2, -extent[2]/2],\n",
    "        [-extent[0]/2, extent[1]/2, -extent[2]/2],\n",
    "        [-extent[0]/2, -extent[1]/2, extent[2]/2],\n",
    "        [extent[0]/2, -extent[1]/2, extent[2]/2],\n",
    "        [extent[0]/2, extent[1]/2, extent[2]/2],\n",
    "        [-extent[0]/2, extent[1]/2, extent[2]/2]\n",
    "    ])\n",
    "    \n",
    "    # Поворот и смещение\n",
    "    corners = (rotation @ corners.T).T + center\n",
    "    \n",
    "    # Индексы линий\n",
    "    lines = [[0,1],[1,2],[2,3],[3,0],\n",
    "             [4,5],[5,6],[6,7],[7,4],\n",
    "             [0,4],[1,5],[2,6],[3,7]]\n",
    "    \n",
    "    # Создание LineSet\n",
    "    line_set = o3d.geometry.LineSet()\n",
    "    line_set.points = o3d.utility.Vector3dVector(corners)\n",
    "    line_set.lines = o3d.utility.Vector2iVector(lines)\n",
    "    line_set.colors = o3d.utility.Vector3dVector([[1, 0, 0] for _ in lines])\n",
    "    \n",
    "    return line_set"
   ]
  },
  {
   "cell_type": "code",
   "execution_count": 10,
   "id": "468f6fa8-9c3c-4390-8d8c-094289571c0a",
   "metadata": {},
   "outputs": [
    {
     "name": "stdout",
     "output_type": "stream",
     "text": [
      "Габариты: 0.867 x 0.536 x 0.518 м\n",
      "Объем: 0.2406 м³\n",
      "Точек: 24226\n"
     ]
    }
   ],
   "source": [
    "visualize_point_cloud_with_bbox(completed_objects[1])"
   ]
  },
  {
   "cell_type": "code",
   "execution_count": null,
   "id": "7b46511d-5200-42d6-88dd-8ad81c93f08c",
   "metadata": {},
   "outputs": [],
   "source": [
    "import matplotlib.pyplot as plt\n",
    "plt.imshow(completed_objects[0]['rgb_image'])"
   ]
  },
  {
   "cell_type": "code",
   "execution_count": null,
   "id": "75621f33-9022-4e8a-8557-0de839a17b07",
   "metadata": {},
   "outputs": [],
   "source": []
  }
 ],
 "metadata": {
  "kernelspec": {
   "display_name": "Python 3 (ipykernel)",
   "language": "python",
   "name": "python3"
  },
  "language_info": {
   "codemirror_mode": {
    "name": "ipython",
    "version": 3
   },
   "file_extension": ".py",
   "mimetype": "text/x-python",
   "name": "python",
   "nbconvert_exporter": "python",
   "pygments_lexer": "ipython3",
   "version": "3.11.13"
  }
 },
 "nbformat": 4,
 "nbformat_minor": 5
}
