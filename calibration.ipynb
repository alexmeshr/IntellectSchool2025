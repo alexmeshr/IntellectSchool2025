{
 "cells": [
  {
   "cell_type": "code",
   "execution_count": 13,
   "id": "0b05f708-6815-4ba5-838e-5148e75e95f1",
   "metadata": {},
   "outputs": [],
   "source": [
    "test_mp4, test_depth = \"./raw_data/rgb_20250710_150214\", \"./raw_data/depth_20250710_150214\""
   ]
  },
  {
   "cell_type": "code",
   "execution_count": 2,
   "id": "d799c849-945f-45ba-a99a-b99a7207ff9d",
   "metadata": {},
   "outputs": [
    {
     "name": "stdout",
     "output_type": "stream",
     "text": [
      "Jupyter environment detected. Enabling Open3D WebVisualizer.\n",
      "[Open3D INFO] WebRTC GUI backend enabled.\n",
      "[Open3D INFO] WebRTCWindowSystem: HTTP handshake server disabled.\n",
      "Обработано кадров: 184\n"
     ]
    }
   ],
   "source": [
    "import cv2\n",
    "from frame_processor import FrameProcessor\n",
    "from mock_camera import MockCamera\n",
    "from depth_processor import DepthProcessor\n",
    "import numpy as np\n",
    "\n",
    "from config import Config \n",
    "Config.POINT_CLOUD_STRIDE=1\n",
    "\n",
    "# Инициализация\n",
    "Config.CAMERA_INTRINSICS={\n",
    "                'fx': 390.4425964355469, \n",
    "                'fy': 390.4425964355469,\n",
    "                'cx': 320.0,\n",
    "                'cy': 240.0,\n",
    "                'depth_scale': 0.001\n",
    "            }\n",
    "Config.MAX_OBSERVATIONS=30\n",
    "camera_intrinsics = Config.CAMERA_INTRINSICS\n",
    "#Config.CAMERA_INTRINSICS\n",
    "#camera = RealSenseCamera()\n",
    "camera = MockCamera(rgb_folder=test_mp4, depth_folder=test_depth)\n",
    "processor = FrameProcessor(camera_intrinsics)\n",
    "depth_processor = DepthProcessor()\n",
    "processor.set_tracking_enabled(True)\n",
    "camera.start()\n",
    "\n",
    "# Обработка и отображение\n",
    "while True:\n",
    "   color, depth = camera.get_frames()\n",
    "   if color is None or depth is None:\n",
    "       break\n",
    "   \n",
    "   # Обработка кадра\n",
    "   results = processor.process_frame(color, depth, is_calibration=True)\n",
    "   # Отображение результата (combined = RGB + Depth + Cleaned)\n",
    "   cv2.imshow('Processed Video', results['combined'])\n",
    "\n",
    "   if cv2.waitKey(25) & 0xFF == ord('q'):\n",
    "       break\n",
    "\n",
    "camera.stop()\n",
    "cv2.destroyAllWindows()\n",
    "\n",
    "# Вывод статистики\n",
    "print(f\"Обработано кадров: {processor.frame_count}\")"
   ]
  },
  {
   "cell_type": "code",
   "execution_count": 26,
   "id": "42b354e4-942b-4aa5-bdaa-8db8a1149e18",
   "metadata": {},
   "outputs": [],
   "source": [
    "import pyrealsense2 as rs\n",
    "import numpy as np\n",
    "import open3d as o3d\n",
    "\n",
    "# Настройка пайплайна\n",
    "pipeline = rs.pipeline()\n",
    "config = rs.config()\n",
    "config.enable_stream(rs.stream.depth, 640, 480, rs.format.z16, 30)\n",
    "config.enable_stream(rs.stream.color, 640, 480, rs.format.bgr8, 30)\n",
    "\n",
    "# Запуск камеры\n",
    "pipeline.start(config)\n",
    "\n",
    "# Очередь кадров\n",
    "frames = pipeline.wait_for_frames()\n",
    "depth_frame = frames.get_depth_frame()\n",
    "color_frame = frames.get_color_frame()\n",
    "spatial = rs.spatial_filter()\n",
    "depth_frame = spatial.process(depth_frame)\n",
    "# Преобразование в numpy\n",
    "depth_image = np.asanyarray(depth_frame.get_data())\n",
    "color_image = np.asanyarray(color_frame.get_data())\n",
    "\n",
    "H, W = color_image.shape[:2]\n",
    "\n",
    "# Размер вырезаемого квадрата\n",
    "square_size = 100  # пикселей\n",
    "cx, cy = W // 2, H // 2\n",
    "\n",
    "# Границы квадрата\n",
    "x0 = cx - square_size // 2\n",
    "x1 = cx + square_size // 2\n",
    "y0 = cy - square_size // 2\n",
    "y1 = cy + square_size // 2\n",
    "\n",
    "# Создаём маску: True — оставить, False — вырезать\n",
    "mask = np.ones((H, W), dtype=bool)\n",
    "mask[y0:y1, x0:x1] = False\n",
    "\n",
    "# Получение профиля камеры\n",
    "pc = rs.pointcloud()\n",
    "points = pc.calculate(depth_frame)\n",
    "pc.map_to(color_frame)\n",
    "vtx = np.asanyarray(points.get_vertices()).view(np.float32).reshape(-1, 3)\n",
    "tex = np.asanyarray(points.get_texture_coordinates()).view(np.float32).reshape(-1, 2)\n",
    "mask_flat = mask.flatten()\n",
    "\n",
    "# Отфильтровать точки и цвета\n",
    "vtx_masked = vtx[mask_flat]\n",
    "# Используем Open3D\n",
    "pcd = o3d.geometry.PointCloud()\n",
    "pcd.points = o3d.utility.Vector3dVector(vtx_masked)\n",
    "pcd.colors = o3d.utility.Vector3dVector(color_image.reshape(-1, 3) / 255.0)\n",
    "\n",
    "o3d.visualization.draw_geometries([pcd])\n"
   ]
  },
  {
   "cell_type": "code",
   "execution_count": 24,
   "id": "c8c8032a-2ca3-4241-a893-a7de7f4eac6c",
   "metadata": {},
   "outputs": [
    {
     "data": {
      "text/plain": [
       "array([         -0,          -0,           0], dtype=float32)"
      ]
     },
     "execution_count": 24,
     "metadata": {},
     "output_type": "execute_result"
    }
   ],
   "source": [
    "vtx[0]"
   ]
  },
  {
   "cell_type": "code",
   "execution_count": 19,
   "id": "4a880b64-daa4-4dfc-b8b2-96dd34f41037",
   "metadata": {},
   "outputs": [
    {
     "name": "stdout",
     "output_type": "stream",
     "text": [
      "ppx is:  319.956787109375\n",
      "ppy is:  243.08212280273438\n",
      "fx is:  390.4425964355469\n",
      "fy is:  390.4425964355469\n"
     ]
    }
   ],
   "source": [
    "import cv2\n",
    "from frame_processor import FrameProcessor\n",
    "from mock_camera import MockCamera\n",
    "from depth_processor import DepthProcessor\n",
    "import numpy as np\n",
    "import open3d as o3d\n",
    "from realsense_camera import RealSenseCamera\n",
    "import pyrealsense2 as rs\n",
    "\n",
    "from config import Config \n",
    "Config.POINT_CLOUD_STRIDE=1\n",
    "\n",
    "\n",
    "Config.MAX_OBSERVATIONS=30\n",
    "camera_intrinsics = Config.CAMERA_INTRINSICS\n",
    "#Config.CAMERA_INTRINSICS\n",
    "camera = RealSenseCamera(apply_filters=True)\n",
    "#camera = MockCamera(rgb_folder=test_mp4, depth_folder=test_depth)\n",
    "processor = FrameProcessor(camera_intrinsics)\n",
    "depth_processor = DepthProcessor()\n",
    "processor.set_tracking_enabled(True)\n",
    "camera.start()\n",
    "\n",
    "# Обработка и отображение\n",
    "\"\"\"\n",
    "pc = rs.pointcloud()\n",
    "points = pc.calculate(depth)\n",
    "pc.map_to(color_frame)\n",
    "vtx = np.asanyarray(points.get_vertices()).view(np.float32).reshape(-1, 3)\n",
    "tex = np.asanyarray(points.get_texture_coordinates()).view(np.float32).reshape(-1, 2)\n",
    "\"\"\"\n",
    "color_image, depth_image = camera.get_frames()\n",
    "depth_o3d = o3d.geometry.Image(depth.astype(np.uint16))\n",
    "o3d_intrinsics = o3d.camera.PinholeCameraIntrinsic()\n",
    "o3d_intrinsics.set_intrinsics(\n",
    "                width=480, height=640,\n",
    "                fx=camera_intrinsics['fx'],\n",
    "                fy=camera_intrinsics['fy'],\n",
    "                cx=camera_intrinsics['cx'],\n",
    "                cy=camera_intrinsics['cy']\n",
    "            )\n",
    "pcd = o3d.geometry.PointCloud.create_from_depth_image(\n",
    "                depth_o3d, o3d_intrinsics, depth_scale=1000.0, stride=Config.POINT_CLOUD_STRIDE\n",
    "            )\n",
    "# Используем Open3D\n",
    "#pcd = o3d.geometry.PointCloud()\n",
    "#pcd.points = o3d.utility.Vector3dVector(vtx)\n",
    "#pcd.colors = o3d.utility.Vector3dVector(color_image.reshape(-1, 3) / 255.0)\n",
    "\n",
    "o3d.visualization.draw_geometries([pcd])"
   ]
  },
  {
   "cell_type": "code",
   "execution_count": null,
   "id": "a5319cac-9774-402e-97c0-7babea367565",
   "metadata": {},
   "outputs": [],
   "source": []
  }
 ],
 "metadata": {
  "kernelspec": {
   "display_name": "Python 3 (ipykernel)",
   "language": "python",
   "name": "python3"
  },
  "language_info": {
   "codemirror_mode": {
    "name": "ipython",
    "version": 3
   },
   "file_extension": ".py",
   "mimetype": "text/x-python",
   "name": "python",
   "nbconvert_exporter": "python",
   "pygments_lexer": "ipython3",
   "version": "3.11.13"
  }
 },
 "nbformat": 4,
 "nbformat_minor": 5
}
